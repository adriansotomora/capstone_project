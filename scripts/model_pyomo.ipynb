{
 "cells": [
  {
   "cell_type": "code",
   "execution_count": 1,
   "id": "ed371c24",
   "metadata": {},
   "outputs": [
    {
     "data": {
      "text/plain": [
       "'/Users/adriansoto/Library/CloudStorage/GoogleDrive-adrian.soto6@gmail.com/My Drive/Maestria/Academics/Term 3/Capstone /capstone_project/scripts'"
      ]
     },
     "execution_count": 1,
     "metadata": {},
     "output_type": "execute_result"
    }
   ],
   "source": [
    "pwd"
   ]
  },
  {
   "cell_type": "code",
   "execution_count": 2,
   "id": "ddeb3fd2",
   "metadata": {},
   "outputs": [],
   "source": [
    "import pandas as pd\n",
    "import numpy as np\n",
    "\n",
    "clients = pd.read_csv('../data/processed/clients.csv')\n",
    "orders = pd.read_csv('../data/processed/orders.csv')\n",
    "orders_raw = pd.read_csv('../data/processed/orders_raw.csv')"
   ]
  },
  {
   "cell_type": "code",
   "execution_count": 3,
   "id": "6cdfb8e0",
   "metadata": {},
   "outputs": [
    {
     "data": {
      "text/html": [
       "<div>\n",
       "<style scoped>\n",
       "    .dataframe tbody tr th:only-of-type {\n",
       "        vertical-align: middle;\n",
       "    }\n",
       "\n",
       "    .dataframe tbody tr th {\n",
       "        vertical-align: top;\n",
       "    }\n",
       "\n",
       "    .dataframe thead th {\n",
       "        text-align: right;\n",
       "    }\n",
       "</style>\n",
       "<table border=\"1\" class=\"dataframe\">\n",
       "  <thead>\n",
       "    <tr style=\"text-align: right;\">\n",
       "      <th></th>\n",
       "      <th>class</th>\n",
       "      <th>count</th>\n",
       "      <th>percentage</th>\n",
       "    </tr>\n",
       "  </thead>\n",
       "  <tbody>\n",
       "    <tr>\n",
       "      <th>0</th>\n",
       "      <td>HighTicket_Efficient</td>\n",
       "      <td>19280</td>\n",
       "      <td>0.459595</td>\n",
       "    </tr>\n",
       "    <tr>\n",
       "      <th>1</th>\n",
       "      <td>LowTicket_Efficient</td>\n",
       "      <td>14993</td>\n",
       "      <td>0.357402</td>\n",
       "    </tr>\n",
       "    <tr>\n",
       "      <th>2</th>\n",
       "      <td>HighTicket_Inefficient</td>\n",
       "      <td>4137</td>\n",
       "      <td>0.098617</td>\n",
       "    </tr>\n",
       "    <tr>\n",
       "      <th>3</th>\n",
       "      <td>LowTicket_Inefficient</td>\n",
       "      <td>3540</td>\n",
       "      <td>0.084386</td>\n",
       "    </tr>\n",
       "  </tbody>\n",
       "</table>\n",
       "</div>"
      ],
      "text/plain": [
       "                    class  count  percentage\n",
       "0    HighTicket_Efficient  19280    0.459595\n",
       "1     LowTicket_Efficient  14993    0.357402\n",
       "2  HighTicket_Inefficient   4137    0.098617\n",
       "3   LowTicket_Inefficient   3540    0.084386"
      ]
     },
     "execution_count": 3,
     "metadata": {},
     "output_type": "execute_result"
    }
   ],
   "source": [
    "# Check balance: include both count and percentage columns\n",
    "balance_counts = clients['class'].value_counts().rename_axis('class').reset_index(name='count')\n",
    "balance_percent = clients['class'].value_counts(normalize=True).rename_axis('class').reset_index(name='percentage')\n",
    "balance = pd.merge(balance_counts, balance_percent, on='class')\n",
    "(balance)"
   ]
  },
  {
   "cell_type": "markdown",
   "id": "81bd5d84",
   "metadata": {},
   "source": [
    "Our main objective is optimizing **HighTicket_Inefficient** (Q1) & **LowTicket_Inefficient** (Q3) "
   ]
  },
  {
   "cell_type": "code",
   "execution_count": 4,
   "id": "b2db9349",
   "metadata": {},
   "outputs": [
    {
     "data": {
      "text/plain": [
       "<Axes: title={'center': 'Clients to Optimize by Class'}, xlabel='class'>"
      ]
     },
     "execution_count": 4,
     "metadata": {},
     "output_type": "execute_result"
    },
    {
     "data": {
      "image/png": "[encoded data removed]",
      "text/plain": [
       "<Figure size 640x480 with 1 Axes>"
      ]
     },
     "metadata": {},
     "output_type": "display_data"
    }
   ],
   "source": [
    "clients_to_optimize = clients[clients['class'].isin(['HighTicket_Inefficient', 'LowTicket_Inefficient'])]\n",
    "clients_to_optimize['class'].value_counts()\n",
    "# Our main objective is optimizing **HighTicket_Inefficient** (Q1) & **LowTicket_Inefficient** (Q3)\n",
    "clients_to_optimize['class'].value_counts().plot(kind='bar', title='Clients to Optimize by Class')"
   ]
  },
  {
   "cell_type": "code",
   "execution_count": 5,
   "id": "776e981e",
   "metadata": {},
   "outputs": [
    {
     "data": {
      "text/html": [
       "<div>\n",
       "<style scoped>\n",
       "    .dataframe tbody tr th:only-of-type {\n",
       "        vertical-align: middle;\n",
       "    }\n",
       "\n",
       "    .dataframe tbody tr th {\n",
       "        vertical-align: top;\n",
       "    }\n",
       "\n",
       "    .dataframe thead th {\n",
       "        text-align: right;\n",
       "    }\n",
       "</style>\n",
       "<table border=\"1\" class=\"dataframe\">\n",
       "  <thead>\n",
       "    <tr style=\"text-align: right;\">\n",
       "      <th></th>\n",
       "      <th>client_id</th>\n",
       "      <th>city</th>\n",
       "      <th>channel</th>\n",
       "      <th>promotor_id</th>\n",
       "      <th>frequency</th>\n",
       "      <th>efficiency</th>\n",
       "      <th>efficiency_scaled</th>\n",
       "      <th>total_orders</th>\n",
       "      <th>total_volume</th>\n",
       "      <th>total_income</th>\n",
       "      <th>...</th>\n",
       "      <th>median_promotor_calls</th>\n",
       "      <th>total_promotor_calls</th>\n",
       "      <th>class</th>\n",
       "      <th>zero_visit_flag</th>\n",
       "      <th>avg_orders_per_month</th>\n",
       "      <th>avg_visits_per_month</th>\n",
       "      <th>visit_order_gap</th>\n",
       "      <th>inefficiency_cost</th>\n",
       "      <th>profit_per_visit</th>\n",
       "      <th>opportunity_cost</th>\n",
       "    </tr>\n",
       "  </thead>\n",
       "  <tbody>\n",
       "    <tr>\n",
       "      <th>2</th>\n",
       "      <td>100042162</td>\n",
       "      <td>Barcelona</td>\n",
       "      <td>HR</td>\n",
       "      <td>455263770</td>\n",
       "      <td>1.0</td>\n",
       "      <td>0.25</td>\n",
       "      <td>0.0125</td>\n",
       "      <td>14</td>\n",
       "      <td>1812.850</td>\n",
       "      <td>2243.30</td>\n",
       "      <td>...</td>\n",
       "      <td>0.0</td>\n",
       "      <td>0.0</td>\n",
       "      <td>HighTicket_Inefficient</td>\n",
       "      <td>False</td>\n",
       "      <td>1.166667</td>\n",
       "      <td>3.666667</td>\n",
       "      <td>2.500000</td>\n",
       "      <td>37.50</td>\n",
       "      <td>28.711364</td>\n",
       "      <td>71.778409</td>\n",
       "    </tr>\n",
       "    <tr>\n",
       "      <th>9</th>\n",
       "      <td>100179704</td>\n",
       "      <td>Barcelona</td>\n",
       "      <td>AR</td>\n",
       "      <td>9820087</td>\n",
       "      <td>1.0</td>\n",
       "      <td>0.50</td>\n",
       "      <td>0.0250</td>\n",
       "      <td>1</td>\n",
       "      <td>81.570</td>\n",
       "      <td>88.33</td>\n",
       "      <td>...</td>\n",
       "      <td>2.0</td>\n",
       "      <td>2.0</td>\n",
       "      <td>HighTicket_Inefficient</td>\n",
       "      <td>False</td>\n",
       "      <td>0.083333</td>\n",
       "      <td>0.166667</td>\n",
       "      <td>0.083333</td>\n",
       "      <td>1.25</td>\n",
       "      <td>24.165000</td>\n",
       "      <td>2.013750</td>\n",
       "    </tr>\n",
       "    <tr>\n",
       "      <th>15</th>\n",
       "      <td>100262932</td>\n",
       "      <td>Barcelona</td>\n",
       "      <td>HR</td>\n",
       "      <td>101664247</td>\n",
       "      <td>1.0</td>\n",
       "      <td>0.50</td>\n",
       "      <td>0.0250</td>\n",
       "      <td>16</td>\n",
       "      <td>940.354</td>\n",
       "      <td>2934.19</td>\n",
       "      <td>...</td>\n",
       "      <td>0.0</td>\n",
       "      <td>0.0</td>\n",
       "      <td>HighTicket_Inefficient</td>\n",
       "      <td>False</td>\n",
       "      <td>1.333333</td>\n",
       "      <td>2.000000</td>\n",
       "      <td>0.666667</td>\n",
       "      <td>10.00</td>\n",
       "      <td>95.591250</td>\n",
       "      <td>63.727500</td>\n",
       "    </tr>\n",
       "    <tr>\n",
       "      <th>18</th>\n",
       "      <td>100349828</td>\n",
       "      <td>Madrid</td>\n",
       "      <td>HR</td>\n",
       "      <td>268093511</td>\n",
       "      <td>1.0</td>\n",
       "      <td>0.25</td>\n",
       "      <td>0.0125</td>\n",
       "      <td>16</td>\n",
       "      <td>1115.169</td>\n",
       "      <td>4008.34</td>\n",
       "      <td>...</td>\n",
       "      <td>0.0</td>\n",
       "      <td>0.0</td>\n",
       "      <td>HighTicket_Inefficient</td>\n",
       "      <td>False</td>\n",
       "      <td>1.333333</td>\n",
       "      <td>3.666667</td>\n",
       "      <td>2.333333</td>\n",
       "      <td>35.00</td>\n",
       "      <td>65.644091</td>\n",
       "      <td>153.169545</td>\n",
       "    </tr>\n",
       "    <tr>\n",
       "      <th>19</th>\n",
       "      <td>100363218</td>\n",
       "      <td>Santander</td>\n",
       "      <td>AR</td>\n",
       "      <td>77675001</td>\n",
       "      <td>3.0</td>\n",
       "      <td>0.75</td>\n",
       "      <td>0.0375</td>\n",
       "      <td>33</td>\n",
       "      <td>2034.440</td>\n",
       "      <td>2115.68</td>\n",
       "      <td>...</td>\n",
       "      <td>0.0</td>\n",
       "      <td>0.0</td>\n",
       "      <td>LowTicket_Inefficient</td>\n",
       "      <td>False</td>\n",
       "      <td>2.750000</td>\n",
       "      <td>4.000000</td>\n",
       "      <td>1.250000</td>\n",
       "      <td>18.75</td>\n",
       "      <td>-4.048333</td>\n",
       "      <td>-5.060417</td>\n",
       "    </tr>\n",
       "  </tbody>\n",
       "</table>\n",
       "<p>5 rows × 28 columns</p>\n",
       "</div>"
      ],
      "text/plain": [
       "    client_id       city channel  promotor_id  frequency  efficiency  \\\n",
       "2   100042162  Barcelona      HR    455263770        1.0        0.25   \n",
       "9   100179704  Barcelona      AR      9820087        1.0        0.50   \n",
       "15  100262932  Barcelona      HR    101664247        1.0        0.50   \n",
       "18  100349828     Madrid      HR    268093511        1.0        0.25   \n",
       "19  100363218  Santander      AR     77675001        3.0        0.75   \n",
       "\n",
       "    efficiency_scaled  total_orders  total_volume  total_income  ...  \\\n",
       "2              0.0125            14      1812.850       2243.30  ...   \n",
       "9              0.0250             1        81.570         88.33  ...   \n",
       "15             0.0250            16       940.354       2934.19  ...   \n",
       "18             0.0125            16      1115.169       4008.34  ...   \n",
       "19             0.0375            33      2034.440       2115.68  ...   \n",
       "\n",
       "    median_promotor_calls  total_promotor_calls                   class  \\\n",
       "2                     0.0                   0.0  HighTicket_Inefficient   \n",
       "9                     2.0                   2.0  HighTicket_Inefficient   \n",
       "15                    0.0                   0.0  HighTicket_Inefficient   \n",
       "18                    0.0                   0.0  HighTicket_Inefficient   \n",
       "19                    0.0                   0.0   LowTicket_Inefficient   \n",
       "\n",
       "    zero_visit_flag  avg_orders_per_month  avg_visits_per_month  \\\n",
       "2             False              1.166667              3.666667   \n",
       "9             False              0.083333              0.166667   \n",
       "15            False              1.333333              2.000000   \n",
       "18            False              1.333333              3.666667   \n",
       "19            False              2.750000              4.000000   \n",
       "\n",
       "    visit_order_gap  inefficiency_cost  profit_per_visit  opportunity_cost  \n",
       "2          2.500000              37.50         28.711364         71.778409  \n",
       "9          0.083333               1.25         24.165000          2.013750  \n",
       "15         0.666667              10.00         95.591250         63.727500  \n",
       "18         2.333333              35.00         65.644091        153.169545  \n",
       "19         1.250000              18.75         -4.048333         -5.060417  \n",
       "\n",
       "[5 rows x 28 columns]"
      ]
     },
     "execution_count": 5,
     "metadata": {},
     "output_type": "execute_result"
    }
   ],
   "source": [
    "clients_to_optimize.head()\n",
    "\n"
   ]
  },
  {
   "cell_type": "code",
   "execution_count": 6,
   "id": "4d6a77d1",
   "metadata": {},
   "outputs": [
    {
     "name": "stdout",
     "output_type": "stream",
     "text": [
      "<class 'pandas.core.frame.DataFrame'>\n",
      "Index: 7677 entries, 2 to 41947\n",
      "Data columns (total 28 columns):\n",
      " #   Column                  Non-Null Count  Dtype  \n",
      "---  ------                  --------------  -----  \n",
      " 0   client_id               7677 non-null   int64  \n",
      " 1   city                    7677 non-null   object \n",
      " 2   channel                 7677 non-null   object \n",
      " 3   promotor_id             7677 non-null   int64  \n",
      " 4   frequency               7677 non-null   float64\n",
      " 5   efficiency              7677 non-null   float64\n",
      " 6   efficiency_scaled       7677 non-null   float64\n",
      " 7   total_orders            7677 non-null   int64  \n",
      " 8   total_volume            7677 non-null   float64\n",
      " 9   total_income            7677 non-null   float64\n",
      " 10  total_cost              7677 non-null   int64  \n",
      " 11  total_profit            7677 non-null   float64\n",
      " 12  median_ticket           7677 non-null   float64\n",
      " 13  median_ticket_min       7677 non-null   float64\n",
      " 14  median_ticket_max       7677 non-null   float64\n",
      " 15  median_ticket_std       6989 non-null   float64\n",
      " 16  median_promotor_visits  7677 non-null   float64\n",
      " 17  total_promotor_visits   7677 non-null   float64\n",
      " 18  median_promotor_calls   7677 non-null   float64\n",
      " 19  total_promotor_calls    7677 non-null   float64\n",
      " 20  class                   7677 non-null   object \n",
      " 21  zero_visit_flag         7677 non-null   bool   \n",
      " 22  avg_orders_per_month    7677 non-null   float64\n",
      " 23  avg_visits_per_month    7677 non-null   float64\n",
      " 24  visit_order_gap         7677 non-null   float64\n",
      " 25  inefficiency_cost       7677 non-null   float64\n",
      " 26  profit_per_visit        7677 non-null   float64\n",
      " 27  opportunity_cost        7677 non-null   float64\n",
      "dtypes: bool(1), float64(20), int64(4), object(3)\n",
      "memory usage: 1.6+ MB\n"
     ]
    }
   ],
   "source": [
    "clients_to_optimize.info()"
   ]
  },
  {
   "cell_type": "code",
   "execution_count": 7,
   "id": "6a9345f9",
   "metadata": {},
   "outputs": [
    {
     "data": {
      "text/plain": [
       "<Figure size 1000x600 with 0 Axes>"
      ]
     },
     "metadata": {},
     "output_type": "display_data"
    },
    {
     "data": {
      "image/png": "[encoded data removed]",
      "text/plain": [
       "<Figure size 640x480 with 1 Axes>"
      ]
     },
     "metadata": {},
     "output_type": "display_data"
    }
   ],
   "source": [
    "import matplotlib.pyplot as plt\n",
    "\n",
    "plt.figure(figsize=(10, 6))\n",
    "clients.boxplot(column='efficiency', by='class', grid=False)\n",
    "plt.title('Efficiency Distribution per Client Class')\n",
    "plt.suptitle('')\n",
    "plt.xlabel('Client Class')\n",
    "plt.ylabel('Efficiency')\n",
    "plt.xticks(rotation=20)\n",
    "plt.show()"
   ]
  },
  {
   "cell_type": "code",
   "execution_count": 8,
   "id": "8cdc33f4",
   "metadata": {},
   "outputs": [
    {
     "data": {
      "text/plain": [
       "<Figure size 1000x600 with 0 Axes>"
      ]
     },
     "metadata": {},
     "output_type": "display_data"
    },
    {
     "data": {
      "image/png": "[encoded data removed]",
      "text/plain": [
       "<Figure size 640x480 with 1 Axes>"
      ]
     },
     "metadata": {},
     "output_type": "display_data"
    }
   ],
   "source": [
    "\n",
    "plt.figure(figsize=(10, 6))\n",
    "clients.boxplot(column='efficiency_scaled', by='class', grid=False)\n",
    "plt.title('Efficiency Distribution per Client Class')\n",
    "plt.suptitle('')\n",
    "plt.xlabel('Client Class')\n",
    "plt.ylabel('Efficiency (Scaled)')\n",
    "plt.xticks(rotation=20)\n",
    "plt.show()"
   ]
  },
  {
   "cell_type": "code",
   "execution_count": 9,
   "id": "c8e35c37",
   "metadata": {},
   "outputs": [
    {
     "data": {
      "text/html": [
       "<div>\n",
       "<style scoped>\n",
       "    .dataframe tbody tr th:only-of-type {\n",
       "        vertical-align: middle;\n",
       "    }\n",
       "\n",
       "    .dataframe tbody tr th {\n",
       "        vertical-align: top;\n",
       "    }\n",
       "\n",
       "    .dataframe thead th {\n",
       "        text-align: right;\n",
       "    }\n",
       "</style>\n",
       "<table border=\"1\" class=\"dataframe\">\n",
       "  <thead>\n",
       "    <tr style=\"text-align: right;\">\n",
       "      <th></th>\n",
       "      <th>count</th>\n",
       "      <th>mean</th>\n",
       "      <th>std</th>\n",
       "      <th>min</th>\n",
       "      <th>25%</th>\n",
       "      <th>50%</th>\n",
       "      <th>75%</th>\n",
       "      <th>max</th>\n",
       "    </tr>\n",
       "    <tr>\n",
       "      <th>class</th>\n",
       "      <th></th>\n",
       "      <th></th>\n",
       "      <th></th>\n",
       "      <th></th>\n",
       "      <th></th>\n",
       "      <th></th>\n",
       "      <th></th>\n",
       "      <th></th>\n",
       "    </tr>\n",
       "  </thead>\n",
       "  <tbody>\n",
       "    <tr>\n",
       "      <th>HighTicket_Efficient</th>\n",
       "      <td>19280.0</td>\n",
       "      <td>6.002680</td>\n",
       "      <td>7.902011</td>\n",
       "      <td>1.000</td>\n",
       "      <td>1.0</td>\n",
       "      <td>1.5</td>\n",
       "      <td>4.00</td>\n",
       "      <td>20.000000</td>\n",
       "    </tr>\n",
       "    <tr>\n",
       "      <th>HighTicket_Inefficient</th>\n",
       "      <td>4137.0</td>\n",
       "      <td>0.564889</td>\n",
       "      <td>0.171221</td>\n",
       "      <td>0.000</td>\n",
       "      <td>0.5</td>\n",
       "      <td>0.5</td>\n",
       "      <td>0.75</td>\n",
       "      <td>0.958333</td>\n",
       "    </tr>\n",
       "    <tr>\n",
       "      <th>LowTicket_Efficient</th>\n",
       "      <td>14993.0</td>\n",
       "      <td>8.058167</td>\n",
       "      <td>8.770722</td>\n",
       "      <td>1.000</td>\n",
       "      <td>1.0</td>\n",
       "      <td>2.0</td>\n",
       "      <td>20.00</td>\n",
       "      <td>20.000000</td>\n",
       "    </tr>\n",
       "    <tr>\n",
       "      <th>LowTicket_Inefficient</th>\n",
       "      <td>3540.0</td>\n",
       "      <td>0.546881</td>\n",
       "      <td>0.158122</td>\n",
       "      <td>0.125</td>\n",
       "      <td>0.5</td>\n",
       "      <td>0.5</td>\n",
       "      <td>0.75</td>\n",
       "      <td>0.937500</td>\n",
       "    </tr>\n",
       "  </tbody>\n",
       "</table>\n",
       "</div>"
      ],
      "text/plain": [
       "                          count      mean       std    min  25%  50%    75%  \\\n",
       "class                                                                         \n",
       "HighTicket_Efficient    19280.0  6.002680  7.902011  1.000  1.0  1.5   4.00   \n",
       "HighTicket_Inefficient   4137.0  0.564889  0.171221  0.000  0.5  0.5   0.75   \n",
       "LowTicket_Efficient     14993.0  8.058167  8.770722  1.000  1.0  2.0  20.00   \n",
       "LowTicket_Inefficient    3540.0  0.546881  0.158122  0.125  0.5  0.5   0.75   \n",
       "\n",
       "                              max  \n",
       "class                              \n",
       "HighTicket_Efficient    20.000000  \n",
       "HighTicket_Inefficient   0.958333  \n",
       "LowTicket_Efficient     20.000000  \n",
       "LowTicket_Inefficient    0.937500  "
      ]
     },
     "execution_count": 9,
     "metadata": {},
     "output_type": "execute_result"
    }
   ],
   "source": [
    "clients.groupby('class')['efficiency'].describe()"
   ]
  },
  {
   "cell_type": "code",
   "execution_count": 10,
   "id": "695effb6",
   "metadata": {},
   "outputs": [
    {
     "data": {
      "image/png": "[encoded data removed]",
      "text/plain": [
       "<Figure size 800x500 with 1 Axes>"
      ]
     },
     "metadata": {},
     "output_type": "display_data"
    },
    {
     "data": {
      "image/png": "[encoded data removed]",
      "text/plain": [
       "<Figure size 800x500 with 1 Axes>"
      ]
     },
     "metadata": {},
     "output_type": "display_data"
    }
   ],
   "source": [
    "import matplotlib.pyplot as plt\n",
    "# Review the Median promotor visits per each efficiency of clients to optimize \n",
    "# Filter for LowTicket_Inefficient clients\n",
    "low_ticket_inefficient = clients_to_optimize[clients_to_optimize['class'] == 'LowTicket_Inefficient']\n",
    "\n",
    "plt.figure(figsize=(8, 5))\n",
    "plt.hist(low_ticket_inefficient['median_promotor_visits'], bins=30, color='skyblue', edgecolor='black')\n",
    "plt.title('Distribution of Promotor Visits for LowTicket_Inefficient Clients')\n",
    "plt.xlabel('Total Promotor Visits')\n",
    "plt.ylabel('Number of Clients')\n",
    "plt.grid(axis='y', alpha=0.3)\n",
    "plt.show()\n",
    "\n",
    "# Filter for HighTicket_Inneficient\n",
    "high_ticket_inefficient = clients_to_optimize[clients_to_optimize['class'] == 'HighTicket_Inefficient']\n",
    "\n",
    "plt.figure(figsize=(8, 5))\n",
    "plt.hist(high_ticket_inefficient['median_promotor_visits'], bins=30, color='skyblue', edgecolor='black')\n",
    "plt.title('Distribution of Promotor Visits for HighTicket_Inefficient Clients')\n",
    "plt.xlabel('Total Promotor Visits')\n",
    "plt.ylabel('Number of Clients')\n",
    "plt.grid(axis='y', alpha=0.3)\n",
    "plt.show()"
   ]
  },
  {
   "cell_type": "markdown",
   "id": "2a856b2b",
   "metadata": {},
   "source": [
    "The objective is to increase efficiency, we having as a target to be as efficient as the efficient classes. \n",
    "\n",
    "-  **HighTicket_Inefficient  (Q1)** Target Efficiency = 6 \n",
    "-  **LowTicket_Inefficient (Q3)** Target Efficiency = 8"
   ]
  },
  {
   "cell_type": "code",
   "execution_count": 11,
   "id": "c2d0d42e",
   "metadata": {},
   "outputs": [
    {
     "data": {
      "text/html": [
       "<div>\n",
       "<style scoped>\n",
       "    .dataframe tbody tr th:only-of-type {\n",
       "        vertical-align: middle;\n",
       "    }\n",
       "\n",
       "    .dataframe tbody tr th {\n",
       "        vertical-align: top;\n",
       "    }\n",
       "\n",
       "    .dataframe thead tr th {\n",
       "        text-align: left;\n",
       "    }\n",
       "\n",
       "    .dataframe thead tr:last-of-type th {\n",
       "        text-align: right;\n",
       "    }\n",
       "</style>\n",
       "<table border=\"1\" class=\"dataframe\">\n",
       "  <thead>\n",
       "    <tr>\n",
       "      <th></th>\n",
       "      <th colspan=\"8\" halign=\"left\">efficiency</th>\n",
       "    </tr>\n",
       "    <tr>\n",
       "      <th></th>\n",
       "      <th>count</th>\n",
       "      <th>mean</th>\n",
       "      <th>std</th>\n",
       "      <th>min</th>\n",
       "      <th>25%</th>\n",
       "      <th>50%</th>\n",
       "      <th>75%</th>\n",
       "      <th>max</th>\n",
       "    </tr>\n",
       "    <tr>\n",
       "      <th>class</th>\n",
       "      <th></th>\n",
       "      <th></th>\n",
       "      <th></th>\n",
       "      <th></th>\n",
       "      <th></th>\n",
       "      <th></th>\n",
       "      <th></th>\n",
       "      <th></th>\n",
       "    </tr>\n",
       "  </thead>\n",
       "  <tbody>\n",
       "    <tr>\n",
       "      <th>HighTicket_Inefficient</th>\n",
       "      <td>4137.0</td>\n",
       "      <td>0.564889</td>\n",
       "      <td>0.171221</td>\n",
       "      <td>0.000</td>\n",
       "      <td>0.5</td>\n",
       "      <td>0.5</td>\n",
       "      <td>0.75</td>\n",
       "      <td>0.958333</td>\n",
       "    </tr>\n",
       "    <tr>\n",
       "      <th>LowTicket_Inefficient</th>\n",
       "      <td>3540.0</td>\n",
       "      <td>0.546881</td>\n",
       "      <td>0.158122</td>\n",
       "      <td>0.125</td>\n",
       "      <td>0.5</td>\n",
       "      <td>0.5</td>\n",
       "      <td>0.75</td>\n",
       "      <td>0.937500</td>\n",
       "    </tr>\n",
       "  </tbody>\n",
       "</table>\n",
       "</div>"
      ],
      "text/plain": [
       "                       efficiency                                             \\\n",
       "                            count      mean       std    min  25%  50%   75%   \n",
       "class                                                                          \n",
       "HighTicket_Inefficient     4137.0  0.564889  0.171221  0.000  0.5  0.5  0.75   \n",
       "LowTicket_Inefficient      3540.0  0.546881  0.158122  0.125  0.5  0.5  0.75   \n",
       "\n",
       "                                  \n",
       "                             max  \n",
       "class                             \n",
       "HighTicket_Inefficient  0.958333  \n",
       "LowTicket_Inefficient   0.937500  "
      ]
     },
     "execution_count": 11,
     "metadata": {},
     "output_type": "execute_result"
    }
   ],
   "source": [
    "clients_to_optimize.groupby('class')[['efficiency']].describe()"
   ]
  },
  {
   "cell_type": "code",
   "execution_count": 12,
   "id": "88ee460f",
   "metadata": {},
   "outputs": [
    {
     "name": "stdout",
     "output_type": "stream",
     "text": [
      "<class 'pandas.core.frame.DataFrame'>\n",
      "Index: 7677 entries, 2 to 41947\n",
      "Data columns (total 28 columns):\n",
      " #   Column                  Non-Null Count  Dtype  \n",
      "---  ------                  --------------  -----  \n",
      " 0   client_id               7677 non-null   int64  \n",
      " 1   city                    7677 non-null   object \n",
      " 2   channel                 7677 non-null   object \n",
      " 3   promotor_id             7677 non-null   int64  \n",
      " 4   frequency               7677 non-null   float64\n",
      " 5   efficiency              7677 non-null   float64\n",
      " 6   efficiency_scaled       7677 non-null   float64\n",
      " 7   total_orders            7677 non-null   int64  \n",
      " 8   total_volume            7677 non-null   float64\n",
      " 9   total_income            7677 non-null   float64\n",
      " 10  total_cost              7677 non-null   int64  \n",
      " 11  total_profit            7677 non-null   float64\n",
      " 12  median_ticket           7677 non-null   float64\n",
      " 13  median_ticket_min       7677 non-null   float64\n",
      " 14  median_ticket_max       7677 non-null   float64\n",
      " 15  median_ticket_std       6989 non-null   float64\n",
      " 16  median_promotor_visits  7677 non-null   float64\n",
      " 17  total_promotor_visits   7677 non-null   float64\n",
      " 18  median_promotor_calls   7677 non-null   float64\n",
      " 19  total_promotor_calls    7677 non-null   float64\n",
      " 20  class                   7677 non-null   object \n",
      " 21  zero_visit_flag         7677 non-null   bool   \n",
      " 22  avg_orders_per_month    7677 non-null   float64\n",
      " 23  avg_visits_per_month    7677 non-null   float64\n",
      " 24  visit_order_gap         7677 non-null   float64\n",
      " 25  inefficiency_cost       7677 non-null   float64\n",
      " 26  profit_per_visit        7677 non-null   float64\n",
      " 27  opportunity_cost        7677 non-null   float64\n",
      "dtypes: bool(1), float64(20), int64(4), object(3)\n",
      "memory usage: 1.6+ MB\n"
     ]
    }
   ],
   "source": [
    "clients_to_optimize.info()"
   ]
  },
  {
   "cell_type": "code",
   "execution_count": 13,
   "id": "3d36cc67",
   "metadata": {},
   "outputs": [
    {
     "data": {
      "text/html": [
       "<div>\n",
       "<style scoped>\n",
       "    .dataframe tbody tr th:only-of-type {\n",
       "        vertical-align: middle;\n",
       "    }\n",
       "\n",
       "    .dataframe tbody tr th {\n",
       "        vertical-align: top;\n",
       "    }\n",
       "\n",
       "    .dataframe thead th {\n",
       "        text-align: right;\n",
       "    }\n",
       "</style>\n",
       "<table border=\"1\" class=\"dataframe\">\n",
       "  <thead>\n",
       "    <tr style=\"text-align: right;\">\n",
       "      <th></th>\n",
       "      <th>avg_visits_per_month</th>\n",
       "    </tr>\n",
       "  </thead>\n",
       "  <tbody>\n",
       "    <tr>\n",
       "      <th>count</th>\n",
       "      <td>7677.000000</td>\n",
       "    </tr>\n",
       "    <tr>\n",
       "      <th>mean</th>\n",
       "      <td>1.969812</td>\n",
       "    </tr>\n",
       "    <tr>\n",
       "      <th>std</th>\n",
       "      <td>1.517430</td>\n",
       "    </tr>\n",
       "    <tr>\n",
       "      <th>min</th>\n",
       "      <td>0.083333</td>\n",
       "    </tr>\n",
       "    <tr>\n",
       "      <th>25%</th>\n",
       "      <td>0.666667</td>\n",
       "    </tr>\n",
       "    <tr>\n",
       "      <th>50%</th>\n",
       "      <td>1.666667</td>\n",
       "    </tr>\n",
       "    <tr>\n",
       "      <th>75%</th>\n",
       "      <td>3.333333</td>\n",
       "    </tr>\n",
       "    <tr>\n",
       "      <th>max</th>\n",
       "      <td>16.000000</td>\n",
       "    </tr>\n",
       "  </tbody>\n",
       "</table>\n",
       "</div>"
      ],
      "text/plain": [
       "       avg_visits_per_month\n",
       "count           7677.000000\n",
       "mean               1.969812\n",
       "std                1.517430\n",
       "min                0.083333\n",
       "25%                0.666667\n",
       "50%                1.666667\n",
       "75%                3.333333\n",
       "max               16.000000"
      ]
     },
     "execution_count": 13,
     "metadata": {},
     "output_type": "execute_result"
    }
   ],
   "source": [
    "clients_to_optimize[['avg_visits_per_month']].describe()"
   ]
  },
  {
   "cell_type": "code",
   "execution_count": 14,
   "id": "4582e544",
   "metadata": {
    "vscode": {
     "languageId": "ruby"
    }
   },
   "outputs": [
    {
     "name": "stdout",
     "output_type": "stream",
     "text": [
      "    cliente_id  current_visits  historical_orders  target_efficiency  \\\n",
      "2    100042162             4.0           1.166667                1.3   \n",
      "9    100179704             2.0           0.083333                1.3   \n",
      "15   100262932             2.0           1.333333                1.3   \n",
      "18   100349828             4.0           1.333333                1.3   \n",
      "19   100363218             4.0           2.750000                1.2   \n",
      "\n",
      "    max_reduction                 segment  \n",
      "2             0.1  HighTicket_Inefficient  \n",
      "9             0.1  HighTicket_Inefficient  \n",
      "15            0.1  HighTicket_Inefficient  \n",
      "18            0.1  HighTicket_Inefficient  \n",
      "19            0.1   LowTicket_Inefficient  \n"
     ]
    }
   ],
   "source": [
    "# The objective is to increase efficiency, we having as a target to be as efficient as the efficient classes, which is one oder per visit. \n",
    "# -  **HighTicket_Inefficient  (Q1)** Target Efficiency = 1 \n",
    "# -  **LowTicket_Inefficient (Q3)** Target Efficiency = 1\n",
    "clients_to_optimize = clients_to_optimize.copy()\n",
    "\n",
    "# rename columns for model \n",
    "clients_to_optimize = clients_to_optimize.rename(columns={\n",
    "    'client_id': 'cliente_id',\n",
    "    'median_promotor_visits': 'current_visits',\n",
    "    'avg_orders_per_month': 'historical_orders',\n",
    "    'class': 'segment'\n",
    "})\n",
    "\n",
    "# Target effiiency and max reduction based on the segment\n",
    "clients_to_optimize['target_efficiency'] = clients_to_optimize['segment'].map({\n",
    "    'HighTicket_Inefficient': 1.3,\n",
    "    'LowTicket_Inefficient': 1.2\n",
    "})\n",
    "\n",
    "clients_to_optimize['max_reduction'] = clients_to_optimize['segment'].map({\n",
    "    'HighTicket_Inefficient': 0.1,\n",
    "    'LowTicket_Inefficient': 0.1\n",
    "})\n",
    "\n",
    "columns_needed = [\n",
    "    'cliente_id',\n",
    "    'current_visits',\n",
    "    'historical_orders',\n",
    "    'target_efficiency',\n",
    "    'max_reduction',\n",
    "    'segment'\n",
    "]\n",
    "\n",
    "clients_for_solver = clients_to_optimize[columns_needed].copy()\n",
    "\n",
    "print(clients_for_solver.head())\n",
    "\n"
   ]
  },
  {
   "cell_type": "code",
   "execution_count": 15,
   "id": "20c80ef3",
   "metadata": {},
   "outputs": [],
   "source": [
    "# Calculate allowed maximum visits after reduction, but never below 1\n",
    "clients_for_solver['max_visits_allowed'] = (\n",
    "    clients_for_solver['current_visits'] * (1 - clients_for_solver['max_reduction'])\n",
    ").clip(lower=1)\n",
    "\n",
    "# Crear lista de clientes\n",
    "clientes = clients_for_solver['cliente_id'].tolist()\n",
    "\n",
    "\n",
    "# Create dictionaries for Pyomo\n",
    "clientes = clients_for_solver['cliente_id'].tolist()\n",
    "current_visits = clients_for_solver.set_index('cliente_id')['current_visits'].to_dict()\n",
    "historical_orders = clients_for_solver.set_index('cliente_id')['historical_orders'].to_dict()\n",
    "target_efficiency = clients_for_solver.set_index('cliente_id')['target_efficiency'].to_dict()\n",
    "max_visits_allowed = clients_for_solver.set_index('cliente_id')['max_visits_allowed'].to_dict()\n"
   ]
  },
  {
   "cell_type": "code",
   "execution_count": 16,
   "id": "836c8fdf",
   "metadata": {
    "vscode": {
     "languageId": "ruby"
    }
   },
   "outputs": [
    {
     "name": "stdout",
     "output_type": "stream",
     "text": [
      "Clientes: [100042162, 100179704, 100262932, 100349828, 100363218]\n",
      "Current visits: [(100042162, 4.0), (100179704, 2.0), (100262932, 2.0), (100349828, 4.0), (100363218, 4.0)]\n",
      "Historical orders: [(100042162, 1.1666666666666667), (100179704, 0.0833333333333333), (100262932, 1.3333333333333333), (100349828, 1.3333333333333333), (100363218, 2.75)]\n",
      "Target efficiency: [(100042162, 1.3), (100179704, 1.3), (100262932, 1.3), (100349828, 1.3), (100363218, 1.2)]\n"
     ]
    }
   ],
   "source": [
    "print(\"Clientes:\", clientes[:5])\n",
    "print(\"Current visits:\", list(current_visits.items())[:5])\n",
    "print(\"Historical orders:\", list(historical_orders.items())[:5])\n",
    "print(\"Target efficiency:\", list(target_efficiency.items())[:5])\n"
   ]
  },
  {
   "cell_type": "code",
   "execution_count": 17,
   "id": "d25e9659",
   "metadata": {
    "vscode": {
     "languageId": "ruby"
    }
   },
   "outputs": [
    {
     "name": "stdout",
     "output_type": "stream",
     "text": [
      "Collecting pyomo\n",
      "  Downloading pyomo-6.9.2-cp39-cp39-macosx_11_0_arm64.whl.metadata (8.2 kB)\n",
      "Collecting ply (from pyomo)\n",
      "  Downloading ply-3.11-py2.py3-none-any.whl.metadata (844 bytes)\n",
      "Downloading pyomo-6.9.2-cp39-cp39-macosx_11_0_arm64.whl (5.5 MB)\n",
      "\u001b[2K   \u001b[90m━━━━━━━━━━━━━━━━━━━━━━━━━━━━━━━━━━━━━━━━\u001b[0m \u001b[32m5.5/5.5 MB\u001b[0m \u001b[31m6.6 MB/s\u001b[0m eta \u001b[36m0:00:00\u001b[0ma \u001b[36m0:00:01\u001b[0mm\n",
      "\u001b[?25hDownloading ply-3.11-py2.py3-none-any.whl (49 kB)\n",
      "Installing collected packages: ply, pyomo\n",
      "\u001b[2K   \u001b[90m━━━━━━━━━━━━━━━━━━━━━━━━━━━━━━━━━━━━━━━━\u001b[0m \u001b[32m2/2\u001b[0m [pyomo]32m1/2\u001b[0m [pyomo]\n",
      "\u001b[1A\u001b[2KSuccessfully installed ply-3.11 pyomo-6.9.2\n",
      "WARNING: Could not locate the 'cbc' executable, which is required for solver\n",
      "cbc\n"
     ]
    },
    {
     "ename": "ApplicationError",
     "evalue": "No executable found for solver 'cbc'",
     "output_type": "error",
     "traceback": [
      "\u001b[0;31m---------------------------------------------------------------------------\u001b[0m",
      "\u001b[0;31mApplicationError\u001b[0m                          Traceback (most recent call last)",
      "Cell \u001b[0;32mIn[17], line 37\u001b[0m\n\u001b[1;32m     35\u001b[0m solver \u001b[38;5;241m=\u001b[39m SolverFactory(\u001b[38;5;124m'\u001b[39m\u001b[38;5;124mcbc\u001b[39m\u001b[38;5;124m'\u001b[39m)\n\u001b[1;32m     36\u001b[0m \u001b[38;5;66;03m#solver = SolverFactory('/opt/homebrew/bin/cbc')\u001b[39;00m\n\u001b[0;32m---> 37\u001b[0m result \u001b[38;5;241m=\u001b[39m \u001b[43msolver\u001b[49m\u001b[38;5;241;43m.\u001b[39;49m\u001b[43msolve\u001b[49m\u001b[43m(\u001b[49m\u001b[43mmodel\u001b[49m\u001b[43m)\u001b[49m\n\u001b[1;32m     39\u001b[0m \u001b[38;5;66;03m# Review results \u001b[39;00m\n\u001b[1;32m     40\u001b[0m \u001b[38;5;28mprint\u001b[39m(result)\n",
      "File \u001b[0;32m/opt/homebrew/Caskroom/miniconda/base/envs/capstone-project/lib/python3.9/site-packages/pyomo/opt/base/solvers.py:534\u001b[0m, in \u001b[0;36mOptSolver.solve\u001b[0;34m(self, *args, **kwds)\u001b[0m\n\u001b[1;32m    531\u001b[0m \u001b[38;5;28;01mdef\u001b[39;00m\u001b[38;5;250m \u001b[39m\u001b[38;5;21msolve\u001b[39m(\u001b[38;5;28mself\u001b[39m, \u001b[38;5;241m*\u001b[39margs, \u001b[38;5;241m*\u001b[39m\u001b[38;5;241m*\u001b[39mkwds):\n\u001b[1;32m    532\u001b[0m \u001b[38;5;250m    \u001b[39m\u001b[38;5;124;03m\"\"\"Solve the problem\"\"\"\u001b[39;00m\n\u001b[0;32m--> 534\u001b[0m     \u001b[38;5;28;43mself\u001b[39;49m\u001b[38;5;241;43m.\u001b[39;49m\u001b[43mavailable\u001b[49m\u001b[43m(\u001b[49m\u001b[43mexception_flag\u001b[49m\u001b[38;5;241;43m=\u001b[39;49m\u001b[38;5;28;43;01mTrue\u001b[39;49;00m\u001b[43m)\u001b[49m\n\u001b[1;32m    535\u001b[0m     \u001b[38;5;66;03m#\u001b[39;00m\n\u001b[1;32m    536\u001b[0m     \u001b[38;5;66;03m# If the inputs are models, then validate that they have been\u001b[39;00m\n\u001b[1;32m    537\u001b[0m     \u001b[38;5;66;03m# constructed! Collect suffix names to try and import from solution.\u001b[39;00m\n\u001b[1;32m    538\u001b[0m     \u001b[38;5;66;03m#\u001b[39;00m\n\u001b[1;32m    539\u001b[0m     \u001b[38;5;28;01mfrom\u001b[39;00m\u001b[38;5;250m \u001b[39m\u001b[38;5;21;01mpyomo\u001b[39;00m\u001b[38;5;21;01m.\u001b[39;00m\u001b[38;5;21;01mcore\u001b[39;00m\u001b[38;5;21;01m.\u001b[39;00m\u001b[38;5;21;01mbase\u001b[39;00m\u001b[38;5;21;01m.\u001b[39;00m\u001b[38;5;21;01mblock\u001b[39;00m\u001b[38;5;250m \u001b[39m\u001b[38;5;28;01mimport\u001b[39;00m BlockData\n",
      "File \u001b[0;32m/opt/homebrew/Caskroom/miniconda/base/envs/capstone-project/lib/python3.9/site-packages/pyomo/opt/solver/shellcmd.py:140\u001b[0m, in \u001b[0;36mSystemCallSolver.available\u001b[0;34m(self, exception_flag)\u001b[0m\n\u001b[1;32m    138\u001b[0m     \u001b[38;5;28;01mif\u001b[39;00m exception_flag:\n\u001b[1;32m    139\u001b[0m         msg \u001b[38;5;241m=\u001b[39m \u001b[38;5;124m\"\u001b[39m\u001b[38;5;124mNo executable found for solver \u001b[39m\u001b[38;5;124m'\u001b[39m\u001b[38;5;132;01m%s\u001b[39;00m\u001b[38;5;124m'\u001b[39m\u001b[38;5;124m\"\u001b[39m\n\u001b[0;32m--> 140\u001b[0m         \u001b[38;5;28;01mraise\u001b[39;00m ApplicationError(msg \u001b[38;5;241m%\u001b[39m \u001b[38;5;28mself\u001b[39m\u001b[38;5;241m.\u001b[39mname)\n\u001b[1;32m    141\u001b[0m     \u001b[38;5;28;01mreturn\u001b[39;00m \u001b[38;5;28;01mFalse\u001b[39;00m\n\u001b[1;32m    142\u001b[0m \u001b[38;5;28;01mreturn\u001b[39;00m \u001b[38;5;28;01mTrue\u001b[39;00m\n",
      "\u001b[0;31mApplicationError\u001b[0m: No executable found for solver 'cbc'"
     ]
    }
   ],
   "source": [
    "# Create the Optimization model using Pyomo\n",
    "!pip install pyomo\n",
    "\n",
    "from pyomo.environ import *\n",
    "\n",
    "# Create model\n",
    "model = ConcreteModel()\n",
    "\n",
    "# Sets\n",
    "model.I = Set(initialize=clientes)\n",
    "\n",
    "# Variables\n",
    "model.v = Var(model.I, domain=NonNegativeIntegers, bounds=(1, None))\n",
    "model.o = Var(model.I, domain=NonNegativeReals)\n",
    "\n",
    "# Objetive function\n",
    "def cost_rule(m):\n",
    "    return sum(15 * m.v[i] + 10 * m.o[i] for i in m.I)\n",
    "model.obj = Objective(rule=cost_rule, sense=minimize)\n",
    "\n",
    "# Constraints\n",
    "def eficiencia_rule(m, i):\n",
    "    return m.o[i] == m.v[i] * target_efficiency[i]\n",
    "model.eficiencia = Constraint(model.I, rule=eficiencia_rule)\n",
    "\n",
    "def demanda_rule(m, i):\n",
    "    return m.o[i] >= 0.6 * historical_orders[i]\n",
    "model.demanda = Constraint(model.I, rule=demanda_rule)\n",
    "\n",
    "def max_visitas_rule(m, i):\n",
    "    return m.v[i] <= max_visits_allowed[i]\n",
    "\n",
    "\n",
    "# Solve\n",
    "solver = SolverFactory('cbc')\n",
    "#solver = SolverFactory('/opt/homebrew/bin/cbc')\n",
    "result = solver.solve(model)\n",
    "\n",
    "# Review results \n",
    "print(result)\n",
    "\n",
    "# Extract results\n",
    "result_visitas = {i: model.v[i].value for i in clientes}\n",
    "result_ordenes = {i: model.o[i].value for i in clientes}\n",
    "\n",
    "result_df = pd.DataFrame({\n",
    "    'cliente_id': clientes,\n",
    "    'visitas_optimas': [result_visitas[i] for i in clientes],\n",
    "    'ordenes_estimadas': [result_ordenes[i] for i in clientes]\n",
    "})\n",
    "\n",
    "print(result_df.head())\n"
   ]
  },
  {
   "cell_type": "markdown",
   "id": "3df40413",
   "metadata": {},
   "source": [
    "## Analisis de los clientes a optimizar, para entender la logica de las reglas"
   ]
  },
  {
   "cell_type": "code",
   "execution_count": null,
   "id": "38425f09",
   "metadata": {
    "vscode": {
     "languageId": "ruby"
    }
   },
   "outputs": [
    {
     "name": "stdout",
     "output_type": "stream",
     "text": [
      "/opt/homebrew/bin/cbc\n"
     ]
    }
   ],
   "source": [
    "!which cbc\n"
   ]
  },
  {
   "cell_type": "code",
   "execution_count": null,
   "id": "f7ab5d78",
   "metadata": {
    "vscode": {
     "languageId": "ruby"
    }
   },
   "outputs": [
    {
     "name": "stdout",
     "output_type": "stream",
     "text": [
      "         cliente_id  current_visits  historical_orders  target_efficiency  \\\n",
      "count  7.677000e+03     7677.000000        7677.000000        7677.000000   \n",
      "mean   5.546115e+08        3.167513           1.282630           1.253888   \n",
      "std    2.599235e+08        1.325315           1.128262           0.049852   \n",
      "min    1.000422e+08        1.000000           0.000000           1.200000   \n",
      "25%    3.295417e+08        2.000000           0.416667           1.200000   \n",
      "50%    5.552920e+08        4.000000           1.000000           1.300000   \n",
      "75%    7.788525e+08        4.000000           1.750000           1.300000   \n",
      "max    9.999406e+08       28.000000          14.083333           1.300000   \n",
      "\n",
      "       max_reduction  \n",
      "count   7.677000e+03  \n",
      "mean    1.000000e-01  \n",
      "std     1.380930e-14  \n",
      "min     1.000000e-01  \n",
      "25%     1.000000e-01  \n",
      "50%     1.000000e-01  \n",
      "75%     1.000000e-01  \n",
      "max     1.000000e-01  \n"
     ]
    }
   ],
   "source": [
    "print(clients_for_solver.describe())\n"
   ]
  },
  {
   "cell_type": "code",
   "execution_count": null,
   "id": "d0584c8f",
   "metadata": {
    "vscode": {
     "languageId": "ruby"
    }
   },
   "outputs": [
    {
     "name": "stdout",
     "output_type": "stream",
     "text": [
      "count    7.677000e+03\n",
      "mean     1.000000e-01\n",
      "std      1.380930e-14\n",
      "min      1.000000e-01\n",
      "25%      1.000000e-01\n",
      "50%      1.000000e-01\n",
      "75%      1.000000e-01\n",
      "max      1.000000e-01\n",
      "Name: max_reduction, dtype: float64\n"
     ]
    }
   ],
   "source": [
    "print(clients_for_solver['max_reduction'].describe())\n"
   ]
  },
  {
   "cell_type": "code",
   "execution_count": null,
   "id": "df3096d5",
   "metadata": {},
   "outputs": [
    {
     "name": "stdout",
     "output_type": "stream",
     "text": [
      "         cliente_id  current_visits  historical_orders  target_efficiency  \\\n",
      "count  7.677000e+03     7677.000000        7677.000000        7677.000000   \n",
      "mean   5.546115e+08        3.167513           1.282630           1.253888   \n",
      "std    2.599235e+08        1.325315           1.128262           0.049852   \n",
      "min    1.000422e+08        1.000000           0.000000           1.200000   \n",
      "25%    3.295417e+08        2.000000           0.416667           1.200000   \n",
      "50%    5.552920e+08        4.000000           1.000000           1.300000   \n",
      "75%    7.788525e+08        4.000000           1.750000           1.300000   \n",
      "max    9.999406e+08       28.000000          14.083333           1.300000   \n",
      "\n",
      "       max_reduction  \n",
      "count   7.677000e+03  \n",
      "mean    1.000000e-01  \n",
      "std     1.380930e-14  \n",
      "min     1.000000e-01  \n",
      "25%     1.000000e-01  \n",
      "50%     1.000000e-01  \n",
      "75%     1.000000e-01  \n",
      "max     1.000000e-01  \n"
     ]
    }
   ],
   "source": [
    "print(clients_for_solver.describe())\n"
   ]
  },
  {
   "cell_type": "code",
   "execution_count": null,
   "id": "f294468a",
   "metadata": {},
   "outputs": [
    {
     "data": {
      "text/html": [
       "<div>\n",
       "<style scoped>\n",
       "    .dataframe tbody tr th:only-of-type {\n",
       "        vertical-align: middle;\n",
       "    }\n",
       "\n",
       "    .dataframe tbody tr th {\n",
       "        vertical-align: top;\n",
       "    }\n",
       "\n",
       "    .dataframe thead th {\n",
       "        text-align: right;\n",
       "    }\n",
       "</style>\n",
       "<table border=\"1\" class=\"dataframe\">\n",
       "  <thead>\n",
       "    <tr style=\"text-align: right;\">\n",
       "      <th></th>\n",
       "      <th>cliente_id</th>\n",
       "      <th>current_visits</th>\n",
       "      <th>historical_orders</th>\n",
       "      <th>target_efficiency</th>\n",
       "      <th>max_reduction</th>\n",
       "      <th>segment</th>\n",
       "    </tr>\n",
       "  </thead>\n",
       "  <tbody>\n",
       "    <tr>\n",
       "      <th>9</th>\n",
       "      <td>100179704</td>\n",
       "      <td>2.0</td>\n",
       "      <td>0.083333</td>\n",
       "      <td>1.3</td>\n",
       "      <td>0.1</td>\n",
       "      <td>HighTicket_Inefficient</td>\n",
       "    </tr>\n",
       "    <tr>\n",
       "      <th>25</th>\n",
       "      <td>100563938</td>\n",
       "      <td>2.0</td>\n",
       "      <td>0.666667</td>\n",
       "      <td>1.3</td>\n",
       "      <td>0.1</td>\n",
       "      <td>HighTicket_Inefficient</td>\n",
       "    </tr>\n",
       "    <tr>\n",
       "      <th>27</th>\n",
       "      <td>100584055</td>\n",
       "      <td>2.0</td>\n",
       "      <td>0.750000</td>\n",
       "      <td>1.3</td>\n",
       "      <td>0.1</td>\n",
       "      <td>HighTicket_Inefficient</td>\n",
       "    </tr>\n",
       "    <tr>\n",
       "      <th>30</th>\n",
       "      <td>100595766</td>\n",
       "      <td>4.0</td>\n",
       "      <td>0.083333</td>\n",
       "      <td>1.2</td>\n",
       "      <td>0.1</td>\n",
       "      <td>LowTicket_Inefficient</td>\n",
       "    </tr>\n",
       "    <tr>\n",
       "      <th>35</th>\n",
       "      <td>100648105</td>\n",
       "      <td>4.0</td>\n",
       "      <td>0.083333</td>\n",
       "      <td>1.3</td>\n",
       "      <td>0.1</td>\n",
       "      <td>HighTicket_Inefficient</td>\n",
       "    </tr>\n",
       "    <tr>\n",
       "      <th>...</th>\n",
       "      <td>...</td>\n",
       "      <td>...</td>\n",
       "      <td>...</td>\n",
       "      <td>...</td>\n",
       "      <td>...</td>\n",
       "      <td>...</td>\n",
       "    </tr>\n",
       "    <tr>\n",
       "      <th>41915</th>\n",
       "      <td>999396614</td>\n",
       "      <td>2.0</td>\n",
       "      <td>0.750000</td>\n",
       "      <td>1.3</td>\n",
       "      <td>0.1</td>\n",
       "      <td>HighTicket_Inefficient</td>\n",
       "    </tr>\n",
       "    <tr>\n",
       "      <th>41919</th>\n",
       "      <td>999417214</td>\n",
       "      <td>2.0</td>\n",
       "      <td>0.416667</td>\n",
       "      <td>1.2</td>\n",
       "      <td>0.1</td>\n",
       "      <td>LowTicket_Inefficient</td>\n",
       "    </tr>\n",
       "    <tr>\n",
       "      <th>41921</th>\n",
       "      <td>999427648</td>\n",
       "      <td>2.0</td>\n",
       "      <td>0.166667</td>\n",
       "      <td>1.3</td>\n",
       "      <td>0.1</td>\n",
       "      <td>HighTicket_Inefficient</td>\n",
       "    </tr>\n",
       "    <tr>\n",
       "      <th>41932</th>\n",
       "      <td>999756015</td>\n",
       "      <td>2.0</td>\n",
       "      <td>0.666667</td>\n",
       "      <td>1.3</td>\n",
       "      <td>0.1</td>\n",
       "      <td>HighTicket_Inefficient</td>\n",
       "    </tr>\n",
       "    <tr>\n",
       "      <th>41935</th>\n",
       "      <td>999780066</td>\n",
       "      <td>2.0</td>\n",
       "      <td>0.250000</td>\n",
       "      <td>1.2</td>\n",
       "      <td>0.1</td>\n",
       "      <td>LowTicket_Inefficient</td>\n",
       "    </tr>\n",
       "  </tbody>\n",
       "</table>\n",
       "<p>3656 rows × 6 columns</p>\n",
       "</div>"
      ],
      "text/plain": [
       "       cliente_id  current_visits  historical_orders  target_efficiency  \\\n",
       "9       100179704             2.0           0.083333                1.3   \n",
       "25      100563938             2.0           0.666667                1.3   \n",
       "27      100584055             2.0           0.750000                1.3   \n",
       "30      100595766             4.0           0.083333                1.2   \n",
       "35      100648105             4.0           0.083333                1.3   \n",
       "...           ...             ...                ...                ...   \n",
       "41915   999396614             2.0           0.750000                1.3   \n",
       "41919   999417214             2.0           0.416667                1.2   \n",
       "41921   999427648             2.0           0.166667                1.3   \n",
       "41932   999756015             2.0           0.666667                1.3   \n",
       "41935   999780066             2.0           0.250000                1.2   \n",
       "\n",
       "       max_reduction                 segment  \n",
       "9                0.1  HighTicket_Inefficient  \n",
       "25               0.1  HighTicket_Inefficient  \n",
       "27               0.1  HighTicket_Inefficient  \n",
       "30               0.1   LowTicket_Inefficient  \n",
       "35               0.1  HighTicket_Inefficient  \n",
       "...              ...                     ...  \n",
       "41915            0.1  HighTicket_Inefficient  \n",
       "41919            0.1   LowTicket_Inefficient  \n",
       "41921            0.1  HighTicket_Inefficient  \n",
       "41932            0.1  HighTicket_Inefficient  \n",
       "41935            0.1   LowTicket_Inefficient  \n",
       "\n",
       "[3656 rows x 6 columns]"
      ]
     },
     "execution_count": 21,
     "metadata": {},
     "output_type": "execute_result"
    }
   ],
   "source": [
    "clients_for_solver[clients_for_solver['historical_orders'] < 1]\n"
   ]
  },
  {
   "cell_type": "code",
   "execution_count": null,
   "id": "a017555b",
   "metadata": {},
   "outputs": [
    {
     "data": {
      "text/plain": [
       "count    7677.000000\n",
       "mean        1.282630\n",
       "std         1.128262\n",
       "min         0.000000\n",
       "25%         0.416667\n",
       "50%         1.000000\n",
       "75%         1.750000\n",
       "max        14.083333\n",
       "Name: historical_orders, dtype: float64"
      ]
     },
     "execution_count": 24,
     "metadata": {},
     "output_type": "execute_result"
    }
   ],
   "source": [
    "clients_for_solver['historical_orders'].describe()\n"
   ]
  },
  {
   "cell_type": "code",
   "execution_count": null,
   "id": "bea46ddf",
   "metadata": {},
   "outputs": [
    {
     "data": {
      "text/plain": [
       "count    7677.000000\n",
       "mean        3.167513\n",
       "std         1.325315\n",
       "min         1.000000\n",
       "25%         2.000000\n",
       "50%         4.000000\n",
       "75%         4.000000\n",
       "max        28.000000\n",
       "Name: current_visits, dtype: float64"
      ]
     },
     "execution_count": 29,
     "metadata": {},
     "output_type": "execute_result"
    }
   ],
   "source": [
    "clients_for_solver['current_visits'].describe()\n"
   ]
  },
  {
   "cell_type": "code",
   "execution_count": null,
   "id": "f7a41290",
   "metadata": {},
   "outputs": [
    {
     "data": {
      "text/plain": [
       "count    7677.000000\n",
       "mean        1.253888\n",
       "std         0.049852\n",
       "min         1.200000\n",
       "25%         1.200000\n",
       "50%         1.300000\n",
       "75%         1.300000\n",
       "max         1.300000\n",
       "Name: target_efficiency, dtype: float64"
      ]
     },
     "execution_count": 30,
     "metadata": {},
     "output_type": "execute_result"
    }
   ],
   "source": [
    "clients_for_solver['target_efficiency'].describe()\n"
   ]
  },
  {
   "cell_type": "markdown",
   "id": "ddd55735",
   "metadata": {},
   "source": [
    "## resultados\n"
   ]
  },
  {
   "cell_type": "code",
   "execution_count": null,
   "id": "f5070ede",
   "metadata": {},
   "outputs": [
    {
     "data": {
      "text/plain": [
       "count    7677.000000\n",
       "mean        1.227563\n",
       "std         0.474389\n",
       "min         1.000000\n",
       "25%         1.000000\n",
       "50%         1.000000\n",
       "75%         1.000000\n",
       "max         7.000000\n",
       "Name: visitas_optimas, dtype: float64"
      ]
     },
     "execution_count": 19,
     "metadata": {},
     "output_type": "execute_result"
    }
   ],
   "source": [
    "result_df['visitas_optimas'].describe()\n"
   ]
  },
  {
   "cell_type": "code",
   "execution_count": null,
   "id": "e8c8d8c5",
   "metadata": {},
   "outputs": [],
   "source": [
    "final_df = pd.merge(clients_for_solver, result_df, on='cliente_id')\n"
   ]
  },
  {
   "cell_type": "code",
   "execution_count": null,
   "id": "b30ebac2",
   "metadata": {},
   "outputs": [
    {
     "name": "stdout",
     "output_type": "stream",
     "text": [
      "Ahorro total estimado: €223,395.00\n"
     ]
    },
    {
     "data": {
      "text/html": [
       "<div>\n",
       "<style scoped>\n",
       "    .dataframe tbody tr th:only-of-type {\n",
       "        vertical-align: middle;\n",
       "    }\n",
       "\n",
       "    .dataframe tbody tr th {\n",
       "        vertical-align: top;\n",
       "    }\n",
       "\n",
       "    .dataframe thead th {\n",
       "        text-align: right;\n",
       "    }\n",
       "</style>\n",
       "<table border=\"1\" class=\"dataframe\">\n",
       "  <thead>\n",
       "    <tr style=\"text-align: right;\">\n",
       "      <th></th>\n",
       "      <th>cliente_id</th>\n",
       "      <th>current_visits</th>\n",
       "      <th>visitas_optimas</th>\n",
       "      <th>visitas_ahorro</th>\n",
       "      <th>ahorro_euros</th>\n",
       "    </tr>\n",
       "  </thead>\n",
       "  <tbody>\n",
       "    <tr>\n",
       "      <th>0</th>\n",
       "      <td>100042162</td>\n",
       "      <td>4.0</td>\n",
       "      <td>1.0</td>\n",
       "      <td>3.0</td>\n",
       "      <td>45.0</td>\n",
       "    </tr>\n",
       "    <tr>\n",
       "      <th>1</th>\n",
       "      <td>100179704</td>\n",
       "      <td>2.0</td>\n",
       "      <td>1.0</td>\n",
       "      <td>1.0</td>\n",
       "      <td>15.0</td>\n",
       "    </tr>\n",
       "    <tr>\n",
       "      <th>2</th>\n",
       "      <td>100262932</td>\n",
       "      <td>2.0</td>\n",
       "      <td>1.0</td>\n",
       "      <td>1.0</td>\n",
       "      <td>15.0</td>\n",
       "    </tr>\n",
       "    <tr>\n",
       "      <th>3</th>\n",
       "      <td>100349828</td>\n",
       "      <td>4.0</td>\n",
       "      <td>1.0</td>\n",
       "      <td>3.0</td>\n",
       "      <td>45.0</td>\n",
       "    </tr>\n",
       "    <tr>\n",
       "      <th>4</th>\n",
       "      <td>100363218</td>\n",
       "      <td>4.0</td>\n",
       "      <td>2.0</td>\n",
       "      <td>2.0</td>\n",
       "      <td>30.0</td>\n",
       "    </tr>\n",
       "  </tbody>\n",
       "</table>\n",
       "</div>"
      ],
      "text/plain": [
       "   cliente_id  current_visits  visitas_optimas  visitas_ahorro  ahorro_euros\n",
       "0   100042162             4.0              1.0             3.0          45.0\n",
       "1   100179704             2.0              1.0             1.0          15.0\n",
       "2   100262932             2.0              1.0             1.0          15.0\n",
       "3   100349828             4.0              1.0             3.0          45.0\n",
       "4   100363218             4.0              2.0             2.0          30.0"
      ]
     },
     "execution_count": 24,
     "metadata": {},
     "output_type": "execute_result"
    }
   ],
   "source": [
    "final_df['visitas_ahorro'] = final_df['current_visits'] - final_df['visitas_optimas']\n",
    "final_df['ahorro_euros'] = final_df['visitas_ahorro'] * 15\n",
    "total_ahorro = final_df['ahorro_euros'].sum()\n",
    "print(f\"Ahorro total estimado: €{total_ahorro:,.2f}\")\n",
    "final_df[['cliente_id', 'current_visits', 'visitas_optimas', 'visitas_ahorro', 'ahorro_euros']].head()\n",
    "\n",
    "\n"
   ]
  },
  {
   "cell_type": "code",
   "execution_count": null,
   "id": "ca067e38",
   "metadata": {},
   "outputs": [],
   "source": []
  },
  {
   "cell_type": "code",
   "execution_count": null,
   "id": "c6285dd6",
   "metadata": {},
   "outputs": [],
   "source": []
  }
 ],
 "metadata": {
  "kernelspec": {
   "display_name": "capstone-project",
   "language": "python",
   "name": "python3"
  },
  "language_info": {
   "codemirror_mode": {
    "name": "ipython",
    "version": 3
   },
   "file_extension": ".py",
   "mimetype": "text/x-python",
   "name": "python",
   "nbconvert_exporter": "python",
   "pygments_lexer": "ipython3",
   "version": "3.9.23"
  }
 },
 "nbformat": 4,
 "nbformat_minor": 5
}
